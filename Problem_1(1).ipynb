{
  "nbformat": 4,
  "nbformat_minor": 0,
  "metadata": {
    "colab": {
      "name": "Problem_1 (1).ipynb",
      "provenance": [],
      "collapsed_sections": []
    },
    "kernelspec": {
      "name": "python3",
      "display_name": "Python 3"
    },
    "language_info": {
      "name": "python"
    }
  },
  "cells": [
    {
      "cell_type": "markdown",
      "source": [
        "# Задача 1.1\n",
        "Проверить мощность и консервативность критериев Лиллиефорса, Харке-Бера, Шапиро-Улика для выборок из следующих распределений:\n",
        "\n",
        "*   Нормальное\n",
        "*   Лапласа\n",
        "*   Стьюдента\n",
        "*   Усеченное нормальное распределение (модуль каждого элемента выборки не превосходит 2)\n",
        "\n"
      ],
      "metadata": {
        "id": "nI5jWfF-byw1"
      }
    },
    {
      "cell_type": "code",
      "source": [
        "import numpy as np\n",
        "import scipy.stats as st\n",
        "\n",
        "np.random.seed(42)\n",
        "\n",
        "# фиксируем количество элементов выборки\n",
        "n = 100"
      ],
      "metadata": {
        "id": "xdResg1Obn19"
      },
      "execution_count": null,
      "outputs": []
    },
    {
      "cell_type": "code",
      "source": [
        "#Распределения: стандартное нормальное, лапласа и стьюдента(df=2)\n",
        "import matplotlib.pyplot as plt\n",
        "\n",
        "x = np.arange(-4.5,4.5,0.1)\n",
        "plt.plot(x, st.norm(0,1).pdf(x), label='Normal distributiion')\n",
        "plt.plot(x, st.laplace.pdf(x), label='Laplace distributiion')\n",
        "plt.plot(x, st.t(df=2).pdf(x), label='Student distributiion')\n",
        "\n",
        "plt.xlabel('x')\n",
        "plt.ylabel('Density')\n",
        "plt.legend(loc='best')\n",
        "plt.title('Pdf')\n",
        "plt.show()"
      ],
      "metadata": {
        "colab": {
          "base_uri": "https://localhost:8080/",
          "height": 295
        },
        "id": "8gXKhsdGioc4",
        "outputId": "b707a7de-7c97-471f-81e8-0ea72d645be3"
      },
      "execution_count": null,
      "outputs": [
        {
          "output_type": "display_data",
          "data": {
            "text/plain": [
              "<Figure size 432x288 with 1 Axes>"
            ],
            "image/png": "[encoded data removed]"
          },
          "metadata": {
            "needs_background": "light"
          }
        }
      ]
    },
    {
      "cell_type": "code",
      "source": [
        "#словарь с данными \n",
        "y = {'norm':[0,0,0],'lapl':[0,0,0],'stud':[0,0,0],'less_2':[0,0,0]}\n",
        "\n",
        "#количество генераций случайных выборок = 100\n",
        "for _ in range(100):\n",
        "  x_norm = np.random.normal(size=n)\n",
        "  x_lapl = np.random.laplace(size=n)\n",
        "  x_stud = np.random.standard_t(df=2,size=n)\n",
        "  x_less_2 = x_norm[abs(x_norm) <= 2]\n",
        "\n",
        "  x = [x_norm,x_lapl,x_stud,x_less_2]\n",
        "\n",
        "  #для каждой выборки проводим три теста:\n",
        "\n",
        "  for i,x_type in enumerate(y): \n",
        "    #Лиллиефорс:\n",
        "    if st.kstest(x[i],'norm')[1] <= 0.05: \n",
        "      y[x_type][0]+=1\n",
        "    #Харке-Бера:\n",
        "    if st.jarque_bera(x[i])[1] <= 0.05:\n",
        "      y[x_type][1]+=1\n",
        "    #Шапиро-Уилка:\n",
        "    if st.shapiro(x[i])[1] <= 0.05:\n",
        "      y[x_type][2]+=1\n",
        "  \n",
        "print(y)\n",
        "# {'norm': [3, 7, 3], 'lapl': [7, 77, 82], 'stud': [24, 100, 100], 'less_2': [4, 0, 10]}"
      ],
      "metadata": {
        "colab": {
          "base_uri": "https://localhost:8080/"
        },
        "id": "EtyMlFgggW2Z",
        "outputId": "bb16abe1-7880-489f-bec3-c6935ea5a8c5"
      },
      "execution_count": null,
      "outputs": [
        {
          "output_type": "stream",
          "name": "stdout",
          "text": [
            "{'norm': [3, 7, 3], 'lapl': [7, 77, 82], 'stud': [24, 100, 100], 'less_2': [4, 0, 10]}\n"
          ]
        }
      ]
    },
    {
      "cell_type": "markdown",
      "source": [
        "#Консервативность\n",
        "Консервативность оцениваем исходя из поведения критериев на нормальной и усеченной выборке. Т.е. ошибка первого рода должна быть меньше 0.05 \n",
        "\n",
        "При первом вычислении только критерий Лиллиефорса дает ошибку 0.03 и 0.04, тогда как остальные критерии оказываются антиконсервативными."
      ],
      "metadata": {
        "id": "-a9MR0GGy6ao"
      }
    },
    {
      "cell_type": "code",
      "source": [
        "# Ошибка первого рода\n",
        "print(\"Вероятность отвергнуть нулевую гипотезу в случае, если она верна (то есть распределение выборки заведомо нормально):\")\n",
        "print(f\"Критерий Лиллиефорса = {y['norm'][0]/100}\")\n",
        "print(f\"Критерий Харке-Бера = {y['norm'][1]/100}\")\n",
        "print(f\"Критерий Шапиро-Уилка = {y['norm'][2]/100}\")\n",
        "print()\n",
        "print(\"Для усеченной выборки, частного случая нормального распределения:\")\n",
        "print(f\"Критерий Лиллиефорса = {y['less_2'][0]/100}\")\n",
        "print(f\"Критерий Харке-Бера = {y['less_2'][1]/100}\")\n",
        "print(f\"Критерий Шапиро-Уилка = {y['less_2'][2]/100}\")"
      ],
      "metadata": {
        "colab": {
          "base_uri": "https://localhost:8080/"
        },
        "id": "suo0yXz-5VSJ",
        "outputId": "0f18bdf9-9e01-4cc3-c485-77618575c8da"
      },
      "execution_count": null,
      "outputs": [
        {
          "output_type": "stream",
          "name": "stdout",
          "text": [
            "Вероятность отвергнуть нулевую гипотезу в случае, если она верна (то есть распределение выборки заведомо нормально):\n",
            "Критерий Лиллиефорса = 0.03\n",
            "Критерий Харке-Бера = 0.07\n",
            "Критерий Шапиро-Уилка = 0.03\n",
            "\n",
            "Для усеченной выборки, частного случая номрального распределения:\n",
            "Критерий Лиллиефорса = 0.04\n",
            "Критерий Харке-Бера = 0.0\n",
            "Критерий Шапиро-Уилка = 0.1\n"
          ]
        }
      ]
    },
    {
      "cell_type": "markdown",
      "source": [
        "#Мощность\n",
        "\n",
        "Самая низкая мощность у критерия Лиллиефорса, на выборке из распределения Лапласа уровень ошибки второго рода более 90%. Для улучшения точности критерий потребуется выборка большего размера.\n",
        "\n",
        "Два остальных критерия демонстрируют практически одинаковые значения мощности. Около 80%, что является хорошим показателем. Для всех трех критериев легче всего было отвергнуть нормальность выборки из распределения Стьюдента."
      ],
      "metadata": {
        "id": "hczo_qINzmx4"
      }
    },
    {
      "cell_type": "code",
      "source": [
        "# Мощность\n",
        "print(\"Вероятность отвергнуть нулевую гипотезу в случае, если верна альтернатива (распределение выборки не подчиняется нормальному распредлению)\")\n",
        "print(\"Распределение Лапласа:\")\n",
        "print(f\"Критерий Лиллиефорса = {y['lapl'][0]/100}\")\n",
        "print(f\"Критерий Харке-Бера = {y['lapl'][1]/100}\")\n",
        "print(f\"Критерий Шапиро-Уилка = {y['lapl'][2]/100}\")\n",
        "print()\n",
        "print(\"Распределение Cтьюдента:\")\n",
        "print(f\"Критерий Лиллиефорса = {y['stud'][0]/100}\")\n",
        "print(f\"Критерий Харке-Бера = {y['stud'][1]/100}\")\n",
        "print(f\"Критерий Шапиро-Уилка = {y['stud'][2]/100}\")"
      ],
      "metadata": {
        "colab": {
          "base_uri": "https://localhost:8080/"
        },
        "id": "j909rRbI4Ace",
        "outputId": "daf70d0a-27b6-4e71-e787-09a85526671e"
      },
      "execution_count": null,
      "outputs": [
        {
          "output_type": "stream",
          "name": "stdout",
          "text": [
            "Вероятность отвергнуть нулевую гипотезу в случае, если верна альтернатива (распределение выборки не подчиняется нормальному распредлению)\n",
            "Распределение Лапласа:\n",
            "Критерий Лиллиефорса = 0.07\n",
            "Критерий Харке-Бера = 0.77\n",
            "Критерий Шапиро-Уилка = 0.82\n",
            "\n",
            "Распределение Cтьюдента:\n",
            "Критерий Лиллиефорса = 0.24\n",
            "Критерий Харке-Бера = 1.0\n",
            "Критерий Шапиро-Уилка = 1.0\n"
          ]
        }
      ]
    }
  ]
}