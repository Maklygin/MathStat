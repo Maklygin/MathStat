{
  "nbformat": 4,
  "nbformat_minor": 0,
  "metadata": {
    "colab": {
      "name": "Problem_4.1.ipynb",
      "provenance": []
    },
    "kernelspec": {
      "name": "python3",
      "display_name": "Python 3"
    },
    "language_info": {
      "name": "python"
    }
  },
  "cells": [
    {
      "cell_type": "markdown",
      "source": [
        "# Задача 4.1\n",
        "Рассмотрим данные из таблицы по числу заболевших и выздоровевших от короновируса в разных странах. Требуется проверить гипотезу о тому, что число выздоровевших людей в странах не зависит от числа заболевших в стране.\n",
        "1.   записать задачу формально;\n",
        "2.   предложить статистику для решения данной задачи;\n",
        "3.   записать приближенно нулевое распределение данной статистики;\n",
        "4.   записать явно правило принятия решения на основе статистики и нулевого распределения для обеспечения уровня значимости alpha = 0.05;\n",
        "5.   проверить гипотезу по записанному критерию, для данных из условия. Противоречат ли они гипотезе?\n",
        "6.   на уровне значимости alpha = 0.05 найти зависимость мощности критерия в зависимости от истинного значения статистики.\n",
        "\n"
      ],
      "metadata": {
        "id": "ufBG7ImXPlXT"
      }
    },
    {
      "cell_type": "code",
      "execution_count": 23,
      "metadata": {
        "colab": {
          "base_uri": "https://localhost:8080/"
        },
        "id": "uNYyESW6rDFl",
        "outputId": "b0fa148a-e960-4074-b1ee-4477fdec9c4e"
      },
      "outputs": [
        {
          "output_type": "execute_result",
          "data": {
            "text/plain": [
              "26"
            ]
          },
          "metadata": {},
          "execution_count": 23
        }
      ],
      "source": [
        "import pandas as pd\n",
        "import numpy as np\n",
        "\n",
        "df = pd.read_csv('https://raw.githubusercontent.com/Intelligent-Systems-Phystech/psad/master/labs/lab1/data/corona.csv')\n",
        "len(df)"
      ]
    },
    {
      "cell_type": "markdown",
      "source": [
        "1. Имеются связанные выборки $ X_1^{n} = (X_{11},...,X_{1n}), X_2^{n} = (X_{21},...,X_{2n})$\n",
        "  \n",
        "  $H_0: \\rho_{X_{1} X_{2}}=0$ (коэффициент корреляции Спирмена)\n",
        "\n",
        "  $H_{1}: \\rho_{X_{1} X_{2}}<\\neq>0$\n",
        " \n",
        "2. Сатистика для нашей гипотезы $ T\\left(X_{1}^{n}, X_{2}^{n}\\right)=\\frac{\\hat{\\rho}_{X_{1} X_{2}} \\sqrt{n-2}}{\\sqrt{1-\\hat{\\rho}_{X_{1} X_{2}}^{2}}}$, где $\\hat{\\rho}_{X_{1} X_{2}}$\n",
        "  $$\\hat{\\rho}_{X_{1} X_{2}}=\\frac{\\sum_{i=1}^{n}\\left(\\operatorname{rank}\\left(X_{1 i}\\right)-\\frac{n+1}{2}\\right)\\left(\\operatorname{rank}\\left(X_{2 i}\\right)-\\frac{n+1}{2}\\right)}{\\frac{1}{12}\\left(n^{3}-n\\right)}= 1-\\frac{6}{n^{3}-n} \\sum_{i=1}^{n}\\left(\\operatorname{rank}\\left(X_{1 i}\\right)-\\operatorname{rank}\\left(X_{2 i}\\right)\\right)^{2}$$\n",
        "\n",
        "3. Нулевое распределение $St(n-2)$\n"
      ],
      "metadata": {
        "id": "O8_V75PvPkE0"
      }
    },
    {
      "cell_type": "markdown",
      "source": [
        "4. Гипотеза принимается, если значение статистики меньше или равно \n",
        "\n",
        "  $\\mathbb{P}( |T(X_1^n,X_2^n)| > t | H_0) =  2(1- \\mathbb{F}_{St(n-2)}(t) ) = \\alpha$\n",
        "\n",
        "  $1 - \\mathbb{F}_{St(n-2)}(t) = \\frac{\\alpha}{2} $\n",
        "\n",
        "  $\\mathbb{F}_{St(n-2)}(t) = 1 -\\frac{\\alpha}{2} $\n",
        "\n",
        "  Табличное значение для распределения стьюдента $t_{1 - \\frac{\\alpha}{2},n-2} = t_{0.975,24} = 2.0639$\n",
        "\n",
        "5. Проверим гипотезу:"
      ],
      "metadata": {
        "id": "zBv7HZm6YUJ2"
      }
    },
    {
      "cell_type": "code",
      "source": [
        "# посчитаем статистику\n",
        "n = len(df)\n",
        "x1 = df.values[:,1]\n",
        "x2 = df.values[:,2]\n",
        "rank_x1 = np.argsort(x1)+1\n",
        "rank_x2 = np.argsort(x2)+1 \n",
        "\n",
        "# выборочный коэффициент корреляции Смирмена \n",
        "ro = 1 - 6/(n**3 - n)*np.sum((rank_x1 - rank_x2)**2)\n",
        "\n",
        "# статистика нашего критерия\n",
        "T = ro *(n-2)**0.5 /(1-ro**2)**0.5\n",
        "\n",
        "print(f\"Значение статистики T = {T}, тогда как квантиль распределения = 2.0639. То есть |T| < 2.0639. \\nГипотезу о независимости X1 и X2 не отвергаем.\")\n"
      ],
      "metadata": {
        "colab": {
          "base_uri": "https://localhost:8080/"
        },
        "id": "UCkUSuPZrwrb",
        "outputId": "26650ccc-ae36-410d-eb9c-c5efdb3e36a5"
      },
      "execution_count": 33,
      "outputs": [
        {
          "output_type": "stream",
          "name": "stdout",
          "text": [
            "Значение статистики T = 0.9361379255924065, тогда как квантиль распределения = 2.0639. То есть |T| < 2.0639. \n",
            "Гипотезу о независимости X1 и X2 не отвергаем.\n"
          ]
        }
      ]
    }
  ]
}